{
 "cells": [
  {
   "cell_type": "markdown",
   "metadata": {},
   "source": [
    "# Exploring Facebook Ads Data in Python\n",
    "I've found that taking Facebook data out of their reporting system and into notebook means I can achieve deeper and more useful analysis.\n",
    "\n",
    "Below is an acutal dataset from facebook. We're going open it, explore it, tidy it and look at some of the data."
   ]
  },
  {
   "cell_type": "markdown",
   "metadata": {},
   "source": [
    "## Loading Library's\n",
    "\n",
    "Don't forget you'll always need to load you libraries when working with pandas. If you'd don't do this you can't use the functionlaity. "
   ]
  },
  {
   "cell_type": "code",
   "execution_count": 1,
   "metadata": {},
   "outputs": [],
   "source": [
    "#First, import pandas. You'll always need to do this\n"
   ]
  },
  {
   "cell_type": "markdown",
   "metadata": {},
   "source": [
    "### matplotlib for drawing graphs\n",
    "We're adding a new libriary to our repotoire <a href=\"\">`matplotlib`</a>. Matplotlib is the go-to library for drawing plots (graphs)."
   ]
  },
  {
   "cell_type": "code",
   "execution_count": 2,
   "metadata": {},
   "outputs": [],
   "source": [
    "#load the matplotlib library"
   ]
  },
  {
   "cell_type": "code",
   "execution_count": 3,
   "metadata": {},
   "outputs": [],
   "source": [
    "#Load your facebook data\n"
   ]
  },
  {
   "cell_type": "code",
   "execution_count": 3,
   "metadata": {},
   "outputs": [],
   "source": [
    "#get the dataset info\n"
   ]
  },
  {
   "cell_type": "code",
   "execution_count": 4,
   "metadata": {},
   "outputs": [],
   "source": [
    "#describe the data\n"
   ]
  },
  {
   "cell_type": "code",
   "execution_count": 5,
   "metadata": {},
   "outputs": [],
   "source": [
    "#Show the head of the data"
   ]
  },
  {
   "cell_type": "markdown",
   "metadata": {},
   "source": [
    "## Dropping uncessary Series (columns)\n",
    "There's no point in us having columns in our dataframe which are empty. You can see from `info()` that we have 0 next to a particular Series (column of data) also when you call the data sets `head()` you see many values 'NaN'.\n",
    "\n",
    "We'll talk about <a href=\"https://pandas.pydata.org/pandas-docs/stable/missing_data.html\">`NaN`</a> at a later time but for the moment what we want to do is remove irrelvate or useless data. It's up to you know what you'll need and what you don't but what we can say for sure is if we have a Series of data which has not been used to gather data for exampe 'Cost per mobile app action (GBP)' then we should disgard it from our data set."
   ]
  },
  {
   "cell_type": "markdown",
   "metadata": {},
   "source": [
    "First of all, lets get a list of column names. That we we can copy and paste them into the drop function."
   ]
  },
  {
   "cell_type": "code",
   "execution_count": 6,
   "metadata": {},
   "outputs": [],
   "source": [
    "# .columns after the datasets name will give a list of column names \n"
   ]
  },
  {
   "cell_type": "markdown",
   "metadata": {},
   "source": [
    "Using the <a href=\"https://pandas.pydata.org/pandas-docs/stable/missing_data.html#dropping-axis-labels-with-missing-data-dropna\">`.drop`</a> function you can easily drop as many columns as you like in one click.\n",
    "\n",
    "All you need to do copy and paste the Series names that you don't want from  the list we produces above. Set the `axis=` to '1', ensure that you've set `inplace=` to True and run the cell. `inplace=` overwrites the current view of the dataset so that the next time you call the data all the fields you dropped will no longer show."
   ]
  },
  {
   "cell_type": "code",
   "execution_count": 8,
   "metadata": {},
   "outputs": [],
   "source": []
  },
  {
   "cell_type": "code",
   "execution_count": 7,
   "metadata": {},
   "outputs": [],
   "source": [
    "#use head to make sure it worked"
   ]
  },
  {
   "cell_type": "markdown",
   "metadata": {},
   "source": [
    "We're still seeing 'NaN' values in our data. These could cause our charts or machine learning tools to break. We need to clean then up. In this senario we're going to assume that we want to presever the row and not drop it just becuase it has a 'NaN'."
   ]
  },
  {
   "cell_type": "code",
   "execution_count": 8,
   "metadata": {},
   "outputs": [],
   "source": [
    "#fill NaN dta\n"
   ]
  },
  {
   "cell_type": "code",
   "execution_count": 9,
   "metadata": {},
   "outputs": [],
   "source": [
    "#Use head to check it's been successful"
   ]
  },
  {
   "cell_type": "markdown",
   "metadata": {},
   "source": [
    "______________________________________________________________________________________________________________________"
   ]
  },
  {
   "cell_type": "markdown",
   "metadata": {},
   "source": [
    "## Rename Columns\n",
    "Ideally we want short descriptive columns that limited have special characters in it. Why? For one, they are much easier for you to read, remember and they make the table size smaller.\n",
    "\n",
    "Also, if we're building scripts for automation more consice column headers will make your life easier, you might as well just sort it early on."
   ]
  },
  {
   "cell_type": "code",
   "execution_count": 10,
   "metadata": {},
   "outputs": [],
   "source": [
    "#Get a list of column names"
   ]
  },
  {
   "cell_type": "code",
   "execution_count": 11,
   "metadata": {},
   "outputs": [],
   "source": [
    "#Rename columns names"
   ]
  },
  {
   "cell_type": "code",
   "execution_count": 12,
   "metadata": {},
   "outputs": [],
   "source": [
    "#Check that it worked"
   ]
  },
  {
   "cell_type": "markdown",
   "metadata": {},
   "source": [
    "_____________________________________________________________________________________________________________________"
   ]
  },
  {
   "cell_type": "markdown",
   "metadata": {},
   "source": [
    "## Timeseries"
   ]
  },
  {
   "cell_type": "markdown",
   "metadata": {},
   "source": [
    "You're never going to escape datetime in the world of marketing...in fact I can't think of a situation anywhere when time isn't a relevant factor in an outcome.\n",
    "\n",
    "But don't worry Pandas has a <a href=\"https://pandas.pydata.org/pandas-docs/stable/timeseries.html\">datatime</a> module that'll help you convert dates in your series into proper format for using in Python. "
   ]
  },
  {
   "cell_type": "code",
   "execution_count": 13,
   "metadata": {},
   "outputs": [],
   "source": [
    "#For mat ends to datetime format\n"
   ]
  },
  {
   "cell_type": "code",
   "execution_count": 14,
   "metadata": {},
   "outputs": [],
   "source": [
    "#Check that it worked"
   ]
  },
  {
   "cell_type": "code",
   "execution_count": 16,
   "metadata": {},
   "outputs": [],
   "source": [
    "#Print the head"
   ]
  },
  {
   "cell_type": "markdown",
   "metadata": {},
   "source": [
    "____________________________________________________________________________________________"
   ]
  },
  {
   "cell_type": "markdown",
   "metadata": {},
   "source": [
    "## Now for some Pretty charts!\n",
    "We want to visually look at what the CPI was overtime. Why? Because graphs are waaaaay easier to read than tables."
   ]
  },
  {
   "cell_type": "code",
   "execution_count": 17,
   "metadata": {},
   "outputs": [],
   "source": [
    "#Sort the index"
   ]
  },
  {
   "cell_type": "code",
   "execution_count": 19,
   "metadata": {},
   "outputs": [],
   "source": [
    "#Create two variables that will be used as the x and y of your chart\n"
   ]
  },
  {
   "cell_type": "code",
   "execution_count": 20,
   "metadata": {},
   "outputs": [],
   "source": [
    "#draw a scatter graph"
   ]
  },
  {
   "cell_type": "markdown",
   "metadata": {},
   "source": [
    "In the last workbook we learned about <a href=\"\">`matplotlib`</a>, we're going add cousin of matplotlib, seaborn. Seaborn is build on top on matplotlib, it's graphs are prettier and you usually need less code to build more complex graphs."
   ]
  },
  {
   "cell_type": "code",
   "execution_count": 21,
   "metadata": {},
   "outputs": [],
   "source": [
    "#Seaborn is another drawing package that can quick draw very cool charts\n"
   ]
  },
  {
   "cell_type": "code",
   "execution_count": 22,
   "metadata": {},
   "outputs": [],
   "source": [
    "#Create a correlation variable"
   ]
  },
  {
   "cell_type": "code",
   "execution_count": 23,
   "metadata": {},
   "outputs": [],
   "source": [
    "#create a seaborn heatmap"
   ]
  },
  {
   "cell_type": "code",
   "execution_count": 24,
   "metadata": {},
   "outputs": [],
   "source": [
    "#load in a new facebook dataset"
   ]
  },
  {
   "cell_type": "code",
   "execution_count": 25,
   "metadata": {},
   "outputs": [],
   "source": [
    "#Inspect and tidy the data, if necessary"
   ]
  },
  {
   "cell_type": "code",
   "execution_count": 26,
   "metadata": {},
   "outputs": [],
   "source": [
    "#Create a correlation variable\n"
   ]
  },
  {
   "cell_type": "code",
   "execution_count": 27,
   "metadata": {},
   "outputs": [],
   "source": [
    "#create a seaborn heatmap"
   ]
  },
  {
   "cell_type": "markdown",
   "metadata": {},
   "source": [
    "## Important Links\n",
    "\n",
    "Twitter:            https://www.twitter.com/nickduddy<br>\n",
    "Instragram:     https://www.instagram.com/thedataboi<br>\n",
    "Facebook:       https://www.facebook.com/thenickduddy<br>\n",
    "Github:           https://www.github.com/thedataboi<br>\n",
    "Web:                http://databoi.com<br>"
   ]
  }
 ],
 "metadata": {
  "kernelspec": {
   "display_name": "Python 3",
   "language": "python",
   "name": "python3"
  },
  "language_info": {
   "codemirror_mode": {
    "name": "ipython",
    "version": 3
   },
   "file_extension": ".py",
   "mimetype": "text/x-python",
   "name": "python",
   "nbconvert_exporter": "python",
   "pygments_lexer": "ipython3",
   "version": "3.6.4"
  }
 },
 "nbformat": 4,
 "nbformat_minor": 2
}
