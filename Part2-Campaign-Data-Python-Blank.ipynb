{
 "cells": [
  {
   "cell_type": "markdown",
   "metadata": {},
   "source": [
    "# What is this Pandas thing?\n",
    "\n",
    "You'll need to become familiar with Pandas in order to properly analyse data with Python. If you want to hear from the source check out the <a href=\"https://pandas.pydata.org/\">`Pandas`</a> website.\n",
    "\n",
    "As mentioned in the last video Pandas is essitially the excel of the Python world. Pandas is the go to tool for anyone looking to begin data exploration or analysis.\n",
    "\n",
    "In this video we'll dig into pandas in alittle more detail. We're only going as deep as you'll need to explore your data and make some amendments to it if need. I later series we'll discuss Pandas in much more detail.\n",
    "\n",
    "--------------------------------------------------------------------------------------------------------------------"
   ]
  },
  {
   "cell_type": "code",
   "execution_count": 14,
   "metadata": {},
   "outputs": [],
   "source": [
    "#First, import pandas. You'll always need to do this\n"
   ]
  },
  {
   "cell_type": "markdown",
   "metadata": {},
   "source": [
    "First things first, we can't see the data until we load the data. Loading just means open. \n",
    "It's best practice to run through the steps in the last video. You'll always need to do these."
   ]
  },
  {
   "cell_type": "code",
   "execution_count": 15,
   "metadata": {},
   "outputs": [],
   "source": [
    "#read in your data file\n",
    "\n",
    "\n",
    "#prints a message confirming data is loaded, if message doesn't appear we have an issue\n"
   ]
  },
  {
   "cell_type": "code",
   "execution_count": 16,
   "metadata": {},
   "outputs": [],
   "source": [
    "#This will return all the columns and what thier data types\n"
   ]
  },
  {
   "cell_type": "code",
   "execution_count": 17,
   "metadata": {},
   "outputs": [],
   "source": [
    "#This will give us the first 5 rows of the data including the colum head\n"
   ]
  },
  {
   "cell_type": "markdown",
   "metadata": {},
   "source": [
    "_____________________________________________________________________________________________________________________"
   ]
  },
  {
   "cell_type": "markdown",
   "metadata": {},
   "source": [
    "# Renaming Columns, Quickly!\n",
    "If you're exporting data from sources like facebook you're going to findout immedately that the naming convesions for fb reports are a total pain. The next few cells will sort this out."
   ]
  },
  {
   "cell_type": "code",
   "execution_count": 18,
   "metadata": {},
   "outputs": [],
   "source": [
    "#Lets get a list of all of the columns\n"
   ]
  },
  {
   "cell_type": "code",
   "execution_count": 19,
   "metadata": {},
   "outputs": [],
   "source": [
    "#Rename the Unnamed column\n"
   ]
  },
  {
   "cell_type": "code",
   "execution_count": 20,
   "metadata": {},
   "outputs": [],
   "source": [
    "#print the head to confirm the change"
   ]
  },
  {
   "cell_type": "markdown",
   "metadata": {},
   "source": [
    "## Annoying characters in your Column names\n",
    "What about pescky spaces,dots and other formats which we may not want in our columns names. Next is a quick way to deal with those."
   ]
  },
  {
   "cell_type": "code",
   "execution_count": 21,
   "metadata": {},
   "outputs": [],
   "source": [
    "#Replace the . in the column names\n"
   ]
  },
  {
   "cell_type": "code",
   "execution_count": 22,
   "metadata": {},
   "outputs": [],
   "source": [
    "#use .info() to confirm change\n"
   ]
  },
  {
   "cell_type": "markdown",
   "metadata": {},
   "source": [
    "_____________________________________________________________________________________________________________________"
   ]
  },
  {
   "cell_type": "markdown",
   "metadata": {},
   "source": [
    "# Explore specific Series (columns)\n",
    "\n",
    "We're going to analyse the kickstarter data to find key points which might inform our marketing spend. Below are some questions that you could ask in early analysis."
   ]
  },
  {
   "cell_type": "code",
   "execution_count": 23,
   "metadata": {},
   "outputs": [],
   "source": [
    "#selecting the location column (Series) of data and create a new varible called locdata\n"
   ]
  },
  {
   "cell_type": "markdown",
   "metadata": {},
   "source": [
    "How many unique locations have campaings been run from?"
   ]
  },
  {
   "cell_type": "code",
   "execution_count": 24,
   "metadata": {},
   "outputs": [],
   "source": [
    "#How many unique areas might you need to target?\n"
   ]
  },
  {
   "cell_type": "markdown",
   "metadata": {},
   "source": [
    "Produce a list of those locations"
   ]
  },
  {
   "cell_type": "code",
   "execution_count": 25,
   "metadata": {},
   "outputs": [],
   "source": [
    "#Get a list of the 806 unique areas\n"
   ]
  },
  {
   "cell_type": "markdown",
   "metadata": {},
   "source": [
    "What are the top locations? And how many campaigns come from each?"
   ]
  },
  {
   "cell_type": "code",
   "execution_count": 26,
   "metadata": {},
   "outputs": [],
   "source": [
    "#use .value_counts() to count values and store as the variable percentloc"
   ]
  },
  {
   "cell_type": "code",
   "execution_count": 27,
   "metadata": {},
   "outputs": [],
   "source": [
    "#call percentloc's head"
   ]
  },
  {
   "cell_type": "markdown",
   "metadata": {},
   "source": [
    "Which are the top locations as a percentage of the whole?"
   ]
  },
  {
   "cell_type": "code",
   "execution_count": 28,
   "metadata": {},
   "outputs": [],
   "source": [
    "#Discover your top geo locations as a percentage of the whole\n"
   ]
  },
  {
   "cell_type": "markdown",
   "metadata": {},
   "source": [
    "_____________________________________________________________________________________________________________________"
   ]
  },
  {
   "cell_type": "markdown",
   "metadata": {},
   "source": [
    "# Filtering with Pandas\n",
    "Filtering is an everyday exercise when using excel and something we need to be able to do in Pandas. Lets filter the provided data set of search result keywords."
   ]
  },
  {
   "cell_type": "code",
   "execution_count": 29,
   "metadata": {},
   "outputs": [],
   "source": [
    "#Call the ksmbdata columns names"
   ]
  },
  {
   "cell_type": "markdown",
   "metadata": {},
   "source": [
    "How many campaigns have been pledged 100 or more and who's goal is equal to or above 100"
   ]
  },
  {
   "cell_type": "code",
   "execution_count": null,
   "metadata": {
    "scrolled": true
   },
   "outputs": [],
   "source": []
  },
  {
   "cell_type": "markdown",
   "metadata": {},
   "source": [
    "Lets store this filter in a variable so that we can return to or call it later."
   ]
  },
  {
   "cell_type": "code",
   "execution_count": null,
   "metadata": {},
   "outputs": [],
   "source": []
  },
  {
   "cell_type": "code",
   "execution_count": 30,
   "metadata": {},
   "outputs": [],
   "source": [
    "#print the new variables head"
   ]
  },
  {
   "cell_type": "markdown",
   "metadata": {},
   "source": [
    "Now we want to look for a combination of words in a series"
   ]
  },
  {
   "cell_type": "code",
   "execution_count": 31,
   "metadata": {},
   "outputs": [],
   "source": [
    "#Filter by category and the word film or blurb and the word love\n"
   ]
  },
  {
   "cell_type": "code",
   "execution_count": 32,
   "metadata": {},
   "outputs": [],
   "source": [
    "#Similar to before but this time filter by category and the text video games and the blurb school\n"
   ]
  },
  {
   "cell_type": "markdown",
   "metadata": {},
   "source": [
    "# Important Links\n",
    "\n",
    "Twitter:            https://www.twitter.com/nickduddy<br>\n",
    "Instragram:     https://www.instagram.com/thedataboi<br>\n",
    "Facebook:       https://www.facebook.com/thenickduddy<br>\n",
    "Github:           https://www.github.com/thedataboi<br>\n",
    "Web:                http://databoi.com<br>"
   ]
  },
  {
   "cell_type": "code",
   "execution_count": null,
   "metadata": {},
   "outputs": [],
   "source": []
  }
 ],
 "metadata": {
  "kernelspec": {
   "display_name": "Python 3",
   "language": "python",
   "name": "python3"
  },
  "language_info": {
   "codemirror_mode": {
    "name": "ipython",
    "version": 3
   },
   "file_extension": ".py",
   "mimetype": "text/x-python",
   "name": "python",
   "nbconvert_exporter": "python",
   "pygments_lexer": "ipython3",
   "version": "3.6.4"
  }
 },
 "nbformat": 4,
 "nbformat_minor": 2
}
