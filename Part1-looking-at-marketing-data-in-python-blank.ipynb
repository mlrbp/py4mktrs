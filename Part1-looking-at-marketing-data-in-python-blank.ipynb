{
 "cells": [
  {
   "cell_type": "markdown",
   "metadata": {},
   "source": [
    "# A Short, Sweet Intro to Python for A Marketer\n",
    "\n",
    "This first workbook is a quicky. It'll show you how to load data into <a href='https://pandas.pydata.org/'>Pandas</a>. Unless you're actually developing platforms in Python or working with certain machine learning modules you'll almost always use pandas to inspect and maniplute your data sets.\n",
    "\n",
    "This workbook only covers the loading/opening of a csv file or as we call it in 'Pandas world' dataframe, with a brief inspection of your data in Pandas.\n",
    "\n",
    "## What is the data set?\n",
    "We'll be using a sample of a kickstarter dataset of campaigns 'live' and 'completed'. You'll need to <a href='https://www.kaggle.com/socathie/kickstarter-project-statistics/data'>sign up to Kaggle</a> (a data sceince competition site) and download the dataset.\n",
    "\n",
    "We're using this set because it's relatively clean and it contains numbers (floats: numbers with decimal points, integers: whole numbers) and text (string) data. This data will give us plenty of examples to play with.\n",
    "____________________________________________________________________________________________________________________"
   ]
  },
  {
   "cell_type": "markdown",
   "metadata": {},
   "source": [
    "## Loading pandas\n",
    "At the top of the every Jupyter Notebook we need to load the libriaries (in other words, a tool set) that we will be using. N.B. it's best to load libraries in the order that you'll be calling them in the notebook. I'll demostrate this in future notebooks.\n",
    "\n",
    "In this notebook we will only be using <a href=\"https://pandas.pydata.org/\">Pandas</a>. Pandas is essentially the Excel of the Python world. Pandas is the go to tool for anyone looking to begin exploratory data analysis in Python.\n",
    "\n",
    "Using pd shortens the prefix you'd write when calling pandas fucntions. It is common practice and you will see this in most examples.\n",
    "____________________________________________________________________________________________________________________"
   ]
  },
  {
   "cell_type": "code",
   "execution_count": 3,
   "metadata": {},
   "outputs": [],
   "source": [
    "#load the pandas library"
   ]
  },
  {
   "cell_type": "markdown",
   "metadata": {},
   "source": [
    "# Loading-in your data and the initial inspection\n",
    "Suppose we don't really know what the data is. We only know where it comes from and the reason you've been given the data. We'll need a tool to help us explore the data no matter what data type (numbers or text) is in there. \n",
    "\n",
    "Pandas is perfect for this task!\n",
    "\n",
    "We will do a initial inspection at this stage to understand the nature of the data we are looking at. There are two datasets for you to look at, `live.csv` and `most_backed.csv`. In this demo we will use `most_backed.csv`, leaving you with `live.csv` to play with in your own time."
   ]
  },
  {
   "cell_type": "code",
   "execution_count": 4,
   "metadata": {},
   "outputs": [],
   "source": [
    "#read in your data file\n",
    "\n",
    "#prints a message confirming data is loaded, if message doesn't appear we have an issue\n"
   ]
  },
  {
   "cell_type": "markdown",
   "metadata": {},
   "source": [
    "### The method .info() displays your data set at a top level\n",
    "Understanding what data types and how many points you have in each of your columns will help you debug any issues you might have later when doing calcuations or drawing graphs.\n",
    "\n",
    "Info will tell you:\n",
    "<ul>\n",
    "<li>Number of rows and columns in the data</li>\n",
    "<li>If any are null or in other words empty</li>\n",
    "<li>The type of data in the columns float/integer/object</li>\n",
    "<li>List all the column names</li>\n",
    "<li>How much memory a files is taking up</li>\n",
    "</ul>"
   ]
  },
  {
   "cell_type": "code",
   "execution_count": 5,
   "metadata": {},
   "outputs": [],
   "source": [
    "#add .info() after any data set you have and it will display something similar to what is below\n"
   ]
  },
  {
   "cell_type": "markdown",
   "metadata": {},
   "source": [
    "### The method .describe() describes your data set\n",
    "Describe looks up the data in columns (Series) and show us the following data about those columns\n",
    "\n",
    "<ul>\n",
    "<li>Count show how many rows are in the column</li>\n",
    "<li>Mean is the the average</li>\n",
    "<li>std is the standard deviation</li>\n",
    "<li>Min and Max</li>\n",
    "<li>The Percentiles e.g. a conversion rate that is greater than 75% of the scores \n",
    "    of people taking the test is said to be at the 75th percentile</li>\n",
    "</ul>"
   ]
  },
  {
   "cell_type": "code",
   "execution_count": 6,
   "metadata": {},
   "outputs": [],
   "source": [
    "#This will give you a statstical breakdown of any numerical data in the file\n"
   ]
  },
  {
   "cell_type": "markdown",
   "metadata": {},
   "source": [
    "### The method .head() shows you the 'head' of the data\n",
    "The head shows you the header of the data. Specifically it shows you the top 5 rows in your data.\n",
    "\n",
    "You can increase or decrease the size of the data displayed by putting the number you'd like to see inbetween the bracket. Try this yourself."
   ]
  },
  {
   "cell_type": "code",
   "execution_count": 7,
   "metadata": {},
   "outputs": [],
   "source": [
    "#This will give us the first 5 rows of the data including the colum head\n"
   ]
  },
  {
   "cell_type": "markdown",
   "metadata": {},
   "source": [
    "# Setting an Index for your data\n",
    "An index is a reference point within a list of data. If you don't set an index then Python will allocate one to your data, these are the numbers down the left of the dataset which starts at Zero. In many cases you'll want to set your own index so for example a customer ID number or maybe a timestamp (for when you're working with timeseries data).\n",
    "\n",
    "Setting an index is something that you'll do reguarly. An index can be anything that is key reference to reading and understanding your data for example a date, a customer ID or Name.\n",
    "\n",
    "If you sort data the Index will remain with the other series sorted, this ensures that the data doesn't get mixed up.\n",
    "\n",
    "Another benefit of index is that you can easily join multiple data sets together, provided that have the same index. For example if you have orders for a customer and location data for a customer in two seperate sheets you can pair the data sets provided you have a corresponding index, for example ID, in each of data set.\n",
    "____________________________________________________________________________________________________________________"
   ]
  },
  {
   "cell_type": "markdown",
   "metadata": {},
   "source": [
    "Setting an index is easier than you may think. You do this when you load in your data in. You set `index_col=''` and add the name of the column that you want to be your index.\n",
    "\n",
    "In the case below I chosen the creator."
   ]
  },
  {
   "cell_type": "code",
   "execution_count": 8,
   "metadata": {},
   "outputs": [],
   "source": [
    "#Set the index of kickstarter data\n"
   ]
  },
  {
   "cell_type": "markdown",
   "metadata": {},
   "source": [
    "Notice when you call the head function on the file when the index is set, the index changes postion and is bolded."
   ]
  },
  {
   "cell_type": "code",
   "execution_count": 9,
   "metadata": {},
   "outputs": [],
   "source": [
    "#View the head\n"
   ]
  },
  {
   "cell_type": "markdown",
   "metadata": {},
   "source": [
    "## Important Links\n",
    "\n",
    "Twitter:            https://www.twitter.com/nickduddy<br>\n",
    "Instragram:     https://www.instagram.com/thedataboi<br>\n",
    "Facebook:       https://www.facebook.com/thenickduddy<br>\n",
    "Github:           https://www.github.com/miratrix<br>\n",
    "Web:                http://databoi.com<br>"
   ]
  }
 ],
 "metadata": {
  "anaconda-cloud": {},
  "kernelspec": {
   "display_name": "Python 3",
   "language": "python",
   "name": "python3"
  },
  "language_info": {
   "codemirror_mode": {
    "name": "ipython",
    "version": 3
   },
   "file_extension": ".py",
   "mimetype": "text/x-python",
   "name": "python",
   "nbconvert_exporter": "python",
   "pygments_lexer": "ipython3",
   "version": "3.6.4"
  }
 },
 "nbformat": 4,
 "nbformat_minor": 2
}
